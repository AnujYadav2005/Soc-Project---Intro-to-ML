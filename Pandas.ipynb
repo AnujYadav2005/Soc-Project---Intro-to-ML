{
 "cells": [
  {
   "cell_type": "code",
   "execution_count": 2,
   "metadata": {},
   "outputs": [],
   "source": [
    "import numpy as np\n",
    "import pandas as pd"
   ]
  },
  {
   "cell_type": "code",
   "execution_count": 3,
   "metadata": {},
   "outputs": [],
   "source": [
    "dict = {\n",
    "        \"name\":['harry',\"rohan\",\"anuj\"],\n",
    "        \"marks\":[92,34,24],\n",
    "        \"city\" : [\"rampur\",\"kolkata\", \"mhow\"]\n",
    "        }"
   ]
  },
  {
   "cell_type": "code",
   "execution_count": 4,
   "metadata": {},
   "outputs": [],
   "source": [
    "df = pd.DataFrame(dict)"
   ]
  },
  {
   "cell_type": "code",
   "execution_count": 5,
   "metadata": {},
   "outputs": [
    {
     "data": {
      "text/html": [
       "<div>\n",
       "<style scoped>\n",
       "    .dataframe tbody tr th:only-of-type {\n",
       "        vertical-align: middle;\n",
       "    }\n",
       "\n",
       "    .dataframe tbody tr th {\n",
       "        vertical-align: top;\n",
       "    }\n",
       "\n",
       "    .dataframe thead th {\n",
       "        text-align: right;\n",
       "    }\n",
       "</style>\n",
       "<table border=\"1\" class=\"dataframe\">\n",
       "  <thead>\n",
       "    <tr style=\"text-align: right;\">\n",
       "      <th></th>\n",
       "      <th>name</th>\n",
       "      <th>marks</th>\n",
       "      <th>city</th>\n",
       "    </tr>\n",
       "  </thead>\n",
       "  <tbody>\n",
       "    <tr>\n",
       "      <th>0</th>\n",
       "      <td>harry</td>\n",
       "      <td>92</td>\n",
       "      <td>rampur</td>\n",
       "    </tr>\n",
       "    <tr>\n",
       "      <th>1</th>\n",
       "      <td>rohan</td>\n",
       "      <td>34</td>\n",
       "      <td>kolkata</td>\n",
       "    </tr>\n",
       "    <tr>\n",
       "      <th>2</th>\n",
       "      <td>anuj</td>\n",
       "      <td>24</td>\n",
       "      <td>mhow</td>\n",
       "    </tr>\n",
       "  </tbody>\n",
       "</table>\n",
       "</div>"
      ],
      "text/plain": [
       "    name  marks     city\n",
       "0  harry     92   rampur\n",
       "1  rohan     34  kolkata\n",
       "2   anuj     24     mhow"
      ]
     },
     "execution_count": 5,
     "metadata": {},
     "output_type": "execute_result"
    }
   ],
   "source": [
    "df"
   ]
  },
  {
   "cell_type": "code",
   "execution_count": 6,
   "metadata": {},
   "outputs": [],
   "source": [
    "df.to_csv('friends.csv',index=False)"
   ]
  },
  {
   "cell_type": "code",
   "execution_count": 7,
   "metadata": {},
   "outputs": [
    {
     "data": {
      "text/html": [
       "<div>\n",
       "<style scoped>\n",
       "    .dataframe tbody tr th:only-of-type {\n",
       "        vertical-align: middle;\n",
       "    }\n",
       "\n",
       "    .dataframe tbody tr th {\n",
       "        vertical-align: top;\n",
       "    }\n",
       "\n",
       "    .dataframe thead th {\n",
       "        text-align: right;\n",
       "    }\n",
       "</style>\n",
       "<table border=\"1\" class=\"dataframe\">\n",
       "  <thead>\n",
       "    <tr style=\"text-align: right;\">\n",
       "      <th></th>\n",
       "      <th>name</th>\n",
       "      <th>marks</th>\n",
       "      <th>city</th>\n",
       "    </tr>\n",
       "  </thead>\n",
       "  <tbody>\n",
       "    <tr>\n",
       "      <th>0</th>\n",
       "      <td>harry</td>\n",
       "      <td>92</td>\n",
       "      <td>rampur</td>\n",
       "    </tr>\n",
       "    <tr>\n",
       "      <th>1</th>\n",
       "      <td>rohan</td>\n",
       "      <td>34</td>\n",
       "      <td>kolkata</td>\n",
       "    </tr>\n",
       "  </tbody>\n",
       "</table>\n",
       "</div>"
      ],
      "text/plain": [
       "    name  marks     city\n",
       "0  harry     92   rampur\n",
       "1  rohan     34  kolkata"
      ]
     },
     "execution_count": 7,
     "metadata": {},
     "output_type": "execute_result"
    }
   ],
   "source": [
    "df.head(2)"
   ]
  },
  {
   "cell_type": "code",
   "execution_count": 8,
   "metadata": {},
   "outputs": [
    {
     "data": {
      "text/html": [
       "<div>\n",
       "<style scoped>\n",
       "    .dataframe tbody tr th:only-of-type {\n",
       "        vertical-align: middle;\n",
       "    }\n",
       "\n",
       "    .dataframe tbody tr th {\n",
       "        vertical-align: top;\n",
       "    }\n",
       "\n",
       "    .dataframe thead th {\n",
       "        text-align: right;\n",
       "    }\n",
       "</style>\n",
       "<table border=\"1\" class=\"dataframe\">\n",
       "  <thead>\n",
       "    <tr style=\"text-align: right;\">\n",
       "      <th></th>\n",
       "      <th>name</th>\n",
       "      <th>marks</th>\n",
       "      <th>city</th>\n",
       "    </tr>\n",
       "  </thead>\n",
       "  <tbody>\n",
       "    <tr>\n",
       "      <th>1</th>\n",
       "      <td>rohan</td>\n",
       "      <td>34</td>\n",
       "      <td>kolkata</td>\n",
       "    </tr>\n",
       "    <tr>\n",
       "      <th>2</th>\n",
       "      <td>anuj</td>\n",
       "      <td>24</td>\n",
       "      <td>mhow</td>\n",
       "    </tr>\n",
       "  </tbody>\n",
       "</table>\n",
       "</div>"
      ],
      "text/plain": [
       "    name  marks     city\n",
       "1  rohan     34  kolkata\n",
       "2   anuj     24     mhow"
      ]
     },
     "execution_count": 8,
     "metadata": {},
     "output_type": "execute_result"
    }
   ],
   "source": [
    "df.tail(2)"
   ]
  },
  {
   "cell_type": "code",
   "execution_count": 9,
   "metadata": {},
   "outputs": [
    {
     "data": {
      "text/html": [
       "<div>\n",
       "<style scoped>\n",
       "    .dataframe tbody tr th:only-of-type {\n",
       "        vertical-align: middle;\n",
       "    }\n",
       "\n",
       "    .dataframe tbody tr th {\n",
       "        vertical-align: top;\n",
       "    }\n",
       "\n",
       "    .dataframe thead th {\n",
       "        text-align: right;\n",
       "    }\n",
       "</style>\n",
       "<table border=\"1\" class=\"dataframe\">\n",
       "  <thead>\n",
       "    <tr style=\"text-align: right;\">\n",
       "      <th></th>\n",
       "      <th>marks</th>\n",
       "    </tr>\n",
       "  </thead>\n",
       "  <tbody>\n",
       "    <tr>\n",
       "      <th>count</th>\n",
       "      <td>3.00000</td>\n",
       "    </tr>\n",
       "    <tr>\n",
       "      <th>mean</th>\n",
       "      <td>50.00000</td>\n",
       "    </tr>\n",
       "    <tr>\n",
       "      <th>std</th>\n",
       "      <td>36.71512</td>\n",
       "    </tr>\n",
       "    <tr>\n",
       "      <th>min</th>\n",
       "      <td>24.00000</td>\n",
       "    </tr>\n",
       "    <tr>\n",
       "      <th>25%</th>\n",
       "      <td>29.00000</td>\n",
       "    </tr>\n",
       "    <tr>\n",
       "      <th>50%</th>\n",
       "      <td>34.00000</td>\n",
       "    </tr>\n",
       "    <tr>\n",
       "      <th>75%</th>\n",
       "      <td>63.00000</td>\n",
       "    </tr>\n",
       "    <tr>\n",
       "      <th>max</th>\n",
       "      <td>92.00000</td>\n",
       "    </tr>\n",
       "  </tbody>\n",
       "</table>\n",
       "</div>"
      ],
      "text/plain": [
       "          marks\n",
       "count   3.00000\n",
       "mean   50.00000\n",
       "std    36.71512\n",
       "min    24.00000\n",
       "25%    29.00000\n",
       "50%    34.00000\n",
       "75%    63.00000\n",
       "max    92.00000"
      ]
     },
     "execution_count": 9,
     "metadata": {},
     "output_type": "execute_result"
    }
   ],
   "source": [
    "df.describe()"
   ]
  },
  {
   "cell_type": "code",
   "execution_count": 10,
   "metadata": {},
   "outputs": [],
   "source": [
    "df2 = pd.read_csv(\"friends.csv\")"
   ]
  },
  {
   "cell_type": "code",
   "execution_count": 11,
   "metadata": {},
   "outputs": [
    {
     "data": {
      "text/html": [
       "<div>\n",
       "<style scoped>\n",
       "    .dataframe tbody tr th:only-of-type {\n",
       "        vertical-align: middle;\n",
       "    }\n",
       "\n",
       "    .dataframe tbody tr th {\n",
       "        vertical-align: top;\n",
       "    }\n",
       "\n",
       "    .dataframe thead th {\n",
       "        text-align: right;\n",
       "    }\n",
       "</style>\n",
       "<table border=\"1\" class=\"dataframe\">\n",
       "  <thead>\n",
       "    <tr style=\"text-align: right;\">\n",
       "      <th></th>\n",
       "      <th>name</th>\n",
       "      <th>marks</th>\n",
       "      <th>city</th>\n",
       "    </tr>\n",
       "  </thead>\n",
       "  <tbody>\n",
       "    <tr>\n",
       "      <th>0</th>\n",
       "      <td>harry</td>\n",
       "      <td>92</td>\n",
       "      <td>rampur</td>\n",
       "    </tr>\n",
       "    <tr>\n",
       "      <th>1</th>\n",
       "      <td>rohan</td>\n",
       "      <td>34</td>\n",
       "      <td>kolkata</td>\n",
       "    </tr>\n",
       "    <tr>\n",
       "      <th>2</th>\n",
       "      <td>anuj</td>\n",
       "      <td>24</td>\n",
       "      <td>mhow</td>\n",
       "    </tr>\n",
       "  </tbody>\n",
       "</table>\n",
       "</div>"
      ],
      "text/plain": [
       "    name  marks     city\n",
       "0  harry     92   rampur\n",
       "1  rohan     34  kolkata\n",
       "2   anuj     24     mhow"
      ]
     },
     "execution_count": 11,
     "metadata": {},
     "output_type": "execute_result"
    }
   ],
   "source": [
    "df2"
   ]
  },
  {
   "cell_type": "code",
   "execution_count": 12,
   "metadata": {},
   "outputs": [
    {
     "data": {
      "text/html": [
       "<div>\n",
       "<style scoped>\n",
       "    .dataframe tbody tr th:only-of-type {\n",
       "        vertical-align: middle;\n",
       "    }\n",
       "\n",
       "    .dataframe tbody tr th {\n",
       "        vertical-align: top;\n",
       "    }\n",
       "\n",
       "    .dataframe thead th {\n",
       "        text-align: right;\n",
       "    }\n",
       "</style>\n",
       "<table border=\"1\" class=\"dataframe\">\n",
       "  <thead>\n",
       "    <tr style=\"text-align: right;\">\n",
       "      <th></th>\n",
       "      <th>name</th>\n",
       "      <th>marks</th>\n",
       "      <th>city</th>\n",
       "    </tr>\n",
       "  </thead>\n",
       "  <tbody>\n",
       "    <tr>\n",
       "      <th>0</th>\n",
       "      <td>harry</td>\n",
       "      <td>92</td>\n",
       "      <td>rampur</td>\n",
       "    </tr>\n",
       "    <tr>\n",
       "      <th>1</th>\n",
       "      <td>rohan</td>\n",
       "      <td>34</td>\n",
       "      <td>kolkata</td>\n",
       "    </tr>\n",
       "    <tr>\n",
       "      <th>2</th>\n",
       "      <td>anuj</td>\n",
       "      <td>24</td>\n",
       "      <td>mhow</td>\n",
       "    </tr>\n",
       "  </tbody>\n",
       "</table>\n",
       "</div>"
      ],
      "text/plain": [
       "    name  marks     city\n",
       "0  harry     92   rampur\n",
       "1  rohan     34  kolkata\n",
       "2   anuj     24     mhow"
      ]
     },
     "execution_count": 12,
     "metadata": {},
     "output_type": "execute_result"
    }
   ],
   "source": [
    "df2"
   ]
  },
  {
   "cell_type": "code",
   "execution_count": 13,
   "metadata": {},
   "outputs": [
    {
     "data": {
      "text/html": [
       "<div>\n",
       "<style scoped>\n",
       "    .dataframe tbody tr th:only-of-type {\n",
       "        vertical-align: middle;\n",
       "    }\n",
       "\n",
       "    .dataframe tbody tr th {\n",
       "        vertical-align: top;\n",
       "    }\n",
       "\n",
       "    .dataframe thead th {\n",
       "        text-align: right;\n",
       "    }\n",
       "</style>\n",
       "<table border=\"1\" class=\"dataframe\">\n",
       "  <thead>\n",
       "    <tr style=\"text-align: right;\">\n",
       "      <th></th>\n",
       "      <th>name</th>\n",
       "      <th>marks</th>\n",
       "      <th>city</th>\n",
       "    </tr>\n",
       "  </thead>\n",
       "  <tbody>\n",
       "    <tr>\n",
       "      <th>0</th>\n",
       "      <td>harry</td>\n",
       "      <td>92</td>\n",
       "      <td>rampur</td>\n",
       "    </tr>\n",
       "    <tr>\n",
       "      <th>1</th>\n",
       "      <td>rohan</td>\n",
       "      <td>34</td>\n",
       "      <td>kolkata</td>\n",
       "    </tr>\n",
       "    <tr>\n",
       "      <th>2</th>\n",
       "      <td>anuj</td>\n",
       "      <td>24</td>\n",
       "      <td>mhow</td>\n",
       "    </tr>\n",
       "  </tbody>\n",
       "</table>\n",
       "</div>"
      ],
      "text/plain": [
       "    name  marks     city\n",
       "0  harry     92   rampur\n",
       "1  rohan     34  kolkata\n",
       "2   anuj     24     mhow"
      ]
     },
     "execution_count": 13,
     "metadata": {},
     "output_type": "execute_result"
    }
   ],
   "source": [
    "df2"
   ]
  },
  {
   "cell_type": "code",
   "execution_count": 14,
   "metadata": {},
   "outputs": [
    {
     "data": {
      "text/html": [
       "<div>\n",
       "<style scoped>\n",
       "    .dataframe tbody tr th:only-of-type {\n",
       "        vertical-align: middle;\n",
       "    }\n",
       "\n",
       "    .dataframe tbody tr th {\n",
       "        vertical-align: top;\n",
       "    }\n",
       "\n",
       "    .dataframe thead th {\n",
       "        text-align: right;\n",
       "    }\n",
       "</style>\n",
       "<table border=\"1\" class=\"dataframe\">\n",
       "  <thead>\n",
       "    <tr style=\"text-align: right;\">\n",
       "      <th></th>\n",
       "      <th>name</th>\n",
       "      <th>marks</th>\n",
       "      <th>city</th>\n",
       "    </tr>\n",
       "  </thead>\n",
       "  <tbody>\n",
       "    <tr>\n",
       "      <th>0</th>\n",
       "      <td>harry</td>\n",
       "      <td>92</td>\n",
       "      <td>rampur</td>\n",
       "    </tr>\n",
       "    <tr>\n",
       "      <th>1</th>\n",
       "      <td>rohan</td>\n",
       "      <td>34</td>\n",
       "      <td>kolkata</td>\n",
       "    </tr>\n",
       "    <tr>\n",
       "      <th>2</th>\n",
       "      <td>anuj</td>\n",
       "      <td>24</td>\n",
       "      <td>mhow</td>\n",
       "    </tr>\n",
       "  </tbody>\n",
       "</table>\n",
       "</div>"
      ],
      "text/plain": [
       "    name  marks     city\n",
       "0  harry     92   rampur\n",
       "1  rohan     34  kolkata\n",
       "2   anuj     24     mhow"
      ]
     },
     "execution_count": 14,
     "metadata": {},
     "output_type": "execute_result"
    }
   ],
   "source": [
    "df2"
   ]
  },
  {
   "cell_type": "code",
   "execution_count": 15,
   "metadata": {},
   "outputs": [
    {
     "data": {
      "text/plain": [
       "0    92\n",
       "1    34\n",
       "2    24\n",
       "Name: marks, dtype: int64"
      ]
     },
     "execution_count": 15,
     "metadata": {},
     "output_type": "execute_result"
    }
   ],
   "source": [
    "df2['marks']"
   ]
  },
  {
   "cell_type": "code",
   "execution_count": 16,
   "metadata": {},
   "outputs": [
    {
     "name": "stderr",
     "output_type": "stream",
     "text": [
      "C:\\Users\\yadav\\AppData\\Local\\Temp\\ipykernel_4352\\1865368393.py:1: SettingWithCopyWarning: \n",
      "A value is trying to be set on a copy of a slice from a DataFrame\n",
      "\n",
      "See the caveats in the documentation: https://pandas.pydata.org/pandas-docs/stable/user_guide/indexing.html#returning-a-view-versus-a-copy\n",
      "  df2['marks'][0] = 90\n"
     ]
    }
   ],
   "source": [
    "df2['marks'][0] = 90"
   ]
  },
  {
   "cell_type": "code",
   "execution_count": 17,
   "metadata": {},
   "outputs": [
    {
     "data": {
      "text/html": [
       "<div>\n",
       "<style scoped>\n",
       "    .dataframe tbody tr th:only-of-type {\n",
       "        vertical-align: middle;\n",
       "    }\n",
       "\n",
       "    .dataframe tbody tr th {\n",
       "        vertical-align: top;\n",
       "    }\n",
       "\n",
       "    .dataframe thead th {\n",
       "        text-align: right;\n",
       "    }\n",
       "</style>\n",
       "<table border=\"1\" class=\"dataframe\">\n",
       "  <thead>\n",
       "    <tr style=\"text-align: right;\">\n",
       "      <th></th>\n",
       "      <th>name</th>\n",
       "      <th>marks</th>\n",
       "      <th>city</th>\n",
       "    </tr>\n",
       "  </thead>\n",
       "  <tbody>\n",
       "    <tr>\n",
       "      <th>0</th>\n",
       "      <td>harry</td>\n",
       "      <td>90</td>\n",
       "      <td>rampur</td>\n",
       "    </tr>\n",
       "    <tr>\n",
       "      <th>1</th>\n",
       "      <td>rohan</td>\n",
       "      <td>34</td>\n",
       "      <td>kolkata</td>\n",
       "    </tr>\n",
       "    <tr>\n",
       "      <th>2</th>\n",
       "      <td>anuj</td>\n",
       "      <td>24</td>\n",
       "      <td>mhow</td>\n",
       "    </tr>\n",
       "  </tbody>\n",
       "</table>\n",
       "</div>"
      ],
      "text/plain": [
       "    name  marks     city\n",
       "0  harry     90   rampur\n",
       "1  rohan     34  kolkata\n",
       "2   anuj     24     mhow"
      ]
     },
     "execution_count": 17,
     "metadata": {},
     "output_type": "execute_result"
    }
   ],
   "source": [
    "df2"
   ]
  },
  {
   "cell_type": "code",
   "execution_count": 18,
   "metadata": {},
   "outputs": [],
   "source": [
    "df2.index=[1,2,3]"
   ]
  },
  {
   "cell_type": "code",
   "execution_count": 19,
   "metadata": {},
   "outputs": [
    {
     "data": {
      "text/html": [
       "<div>\n",
       "<style scoped>\n",
       "    .dataframe tbody tr th:only-of-type {\n",
       "        vertical-align: middle;\n",
       "    }\n",
       "\n",
       "    .dataframe tbody tr th {\n",
       "        vertical-align: top;\n",
       "    }\n",
       "\n",
       "    .dataframe thead th {\n",
       "        text-align: right;\n",
       "    }\n",
       "</style>\n",
       "<table border=\"1\" class=\"dataframe\">\n",
       "  <thead>\n",
       "    <tr style=\"text-align: right;\">\n",
       "      <th></th>\n",
       "      <th>name</th>\n",
       "      <th>marks</th>\n",
       "      <th>city</th>\n",
       "    </tr>\n",
       "  </thead>\n",
       "  <tbody>\n",
       "    <tr>\n",
       "      <th>1</th>\n",
       "      <td>harry</td>\n",
       "      <td>90</td>\n",
       "      <td>rampur</td>\n",
       "    </tr>\n",
       "    <tr>\n",
       "      <th>2</th>\n",
       "      <td>rohan</td>\n",
       "      <td>34</td>\n",
       "      <td>kolkata</td>\n",
       "    </tr>\n",
       "    <tr>\n",
       "      <th>3</th>\n",
       "      <td>anuj</td>\n",
       "      <td>24</td>\n",
       "      <td>mhow</td>\n",
       "    </tr>\n",
       "  </tbody>\n",
       "</table>\n",
       "</div>"
      ],
      "text/plain": [
       "    name  marks     city\n",
       "1  harry     90   rampur\n",
       "2  rohan     34  kolkata\n",
       "3   anuj     24     mhow"
      ]
     },
     "execution_count": 19,
     "metadata": {},
     "output_type": "execute_result"
    }
   ],
   "source": [
    "df2"
   ]
  },
  {
   "cell_type": "code",
   "execution_count": 20,
   "metadata": {},
   "outputs": [],
   "source": [
    "ser = pd.Series(np.random.rand(20))"
   ]
  },
  {
   "cell_type": "code",
   "execution_count": 21,
   "metadata": {},
   "outputs": [
    {
     "data": {
      "text/plain": [
       "0     0.117662\n",
       "1     0.167244\n",
       "2     0.480863\n",
       "3     0.270825\n",
       "4     0.987820\n",
       "5     0.372854\n",
       "6     0.165492\n",
       "7     0.052615\n",
       "8     0.016183\n",
       "9     0.537709\n",
       "10    0.999570\n",
       "11    0.138278\n",
       "12    0.600887\n",
       "13    0.122013\n",
       "14    0.270660\n",
       "15    0.627779\n",
       "16    0.022603\n",
       "17    0.171937\n",
       "18    0.197567\n",
       "19    0.134696\n",
       "dtype: float64"
      ]
     },
     "execution_count": 21,
     "metadata": {},
     "output_type": "execute_result"
    }
   ],
   "source": [
    "ser"
   ]
  },
  {
   "cell_type": "code",
   "execution_count": 22,
   "metadata": {},
   "outputs": [
    {
     "data": {
      "text/plain": [
       "pandas.core.series.Series"
      ]
     },
     "execution_count": 22,
     "metadata": {},
     "output_type": "execute_result"
    }
   ],
   "source": [
    "type(ser)"
   ]
  },
  {
   "cell_type": "code",
   "execution_count": 23,
   "metadata": {},
   "outputs": [],
   "source": [
    "df3 = pd.DataFrame(np.random.rand(334,5),index=np.arange(334))"
   ]
  },
  {
   "cell_type": "code",
   "execution_count": 24,
   "metadata": {},
   "outputs": [
    {
     "data": {
      "text/html": [
       "<div>\n",
       "<style scoped>\n",
       "    .dataframe tbody tr th:only-of-type {\n",
       "        vertical-align: middle;\n",
       "    }\n",
       "\n",
       "    .dataframe tbody tr th {\n",
       "        vertical-align: top;\n",
       "    }\n",
       "\n",
       "    .dataframe thead th {\n",
       "        text-align: right;\n",
       "    }\n",
       "</style>\n",
       "<table border=\"1\" class=\"dataframe\">\n",
       "  <thead>\n",
       "    <tr style=\"text-align: right;\">\n",
       "      <th></th>\n",
       "      <th>0</th>\n",
       "      <th>1</th>\n",
       "      <th>2</th>\n",
       "      <th>3</th>\n",
       "      <th>4</th>\n",
       "    </tr>\n",
       "  </thead>\n",
       "  <tbody>\n",
       "    <tr>\n",
       "      <th>0</th>\n",
       "      <td>0.721386</td>\n",
       "      <td>0.407092</td>\n",
       "      <td>0.677209</td>\n",
       "      <td>0.788946</td>\n",
       "      <td>0.434118</td>\n",
       "    </tr>\n",
       "    <tr>\n",
       "      <th>1</th>\n",
       "      <td>0.138462</td>\n",
       "      <td>0.076653</td>\n",
       "      <td>0.711549</td>\n",
       "      <td>0.381831</td>\n",
       "      <td>0.486913</td>\n",
       "    </tr>\n",
       "    <tr>\n",
       "      <th>2</th>\n",
       "      <td>0.941958</td>\n",
       "      <td>0.566208</td>\n",
       "      <td>0.092995</td>\n",
       "      <td>0.778204</td>\n",
       "      <td>0.508077</td>\n",
       "    </tr>\n",
       "    <tr>\n",
       "      <th>3</th>\n",
       "      <td>0.333548</td>\n",
       "      <td>0.282038</td>\n",
       "      <td>0.043280</td>\n",
       "      <td>0.732699</td>\n",
       "      <td>0.298873</td>\n",
       "    </tr>\n",
       "    <tr>\n",
       "      <th>4</th>\n",
       "      <td>0.286634</td>\n",
       "      <td>0.729357</td>\n",
       "      <td>0.368197</td>\n",
       "      <td>0.162860</td>\n",
       "      <td>0.570876</td>\n",
       "    </tr>\n",
       "    <tr>\n",
       "      <th>5</th>\n",
       "      <td>0.306051</td>\n",
       "      <td>0.858420</td>\n",
       "      <td>0.008512</td>\n",
       "      <td>0.787170</td>\n",
       "      <td>0.002022</td>\n",
       "    </tr>\n",
       "    <tr>\n",
       "      <th>6</th>\n",
       "      <td>0.615842</td>\n",
       "      <td>0.518984</td>\n",
       "      <td>0.644410</td>\n",
       "      <td>0.164802</td>\n",
       "      <td>0.760038</td>\n",
       "    </tr>\n",
       "    <tr>\n",
       "      <th>7</th>\n",
       "      <td>0.832138</td>\n",
       "      <td>0.284155</td>\n",
       "      <td>0.860124</td>\n",
       "      <td>0.717670</td>\n",
       "      <td>0.890939</td>\n",
       "    </tr>\n",
       "    <tr>\n",
       "      <th>8</th>\n",
       "      <td>0.440686</td>\n",
       "      <td>0.144522</td>\n",
       "      <td>0.883361</td>\n",
       "      <td>0.588619</td>\n",
       "      <td>0.860853</td>\n",
       "    </tr>\n",
       "    <tr>\n",
       "      <th>9</th>\n",
       "      <td>0.363597</td>\n",
       "      <td>0.477931</td>\n",
       "      <td>0.118070</td>\n",
       "      <td>0.995835</td>\n",
       "      <td>0.646971</td>\n",
       "    </tr>\n",
       "  </tbody>\n",
       "</table>\n",
       "</div>"
      ],
      "text/plain": [
       "          0         1         2         3         4\n",
       "0  0.721386  0.407092  0.677209  0.788946  0.434118\n",
       "1  0.138462  0.076653  0.711549  0.381831  0.486913\n",
       "2  0.941958  0.566208  0.092995  0.778204  0.508077\n",
       "3  0.333548  0.282038  0.043280  0.732699  0.298873\n",
       "4  0.286634  0.729357  0.368197  0.162860  0.570876\n",
       "5  0.306051  0.858420  0.008512  0.787170  0.002022\n",
       "6  0.615842  0.518984  0.644410  0.164802  0.760038\n",
       "7  0.832138  0.284155  0.860124  0.717670  0.890939\n",
       "8  0.440686  0.144522  0.883361  0.588619  0.860853\n",
       "9  0.363597  0.477931  0.118070  0.995835  0.646971"
      ]
     },
     "execution_count": 24,
     "metadata": {},
     "output_type": "execute_result"
    }
   ],
   "source": [
    "df3.head(10)"
   ]
  },
  {
   "cell_type": "code",
   "execution_count": 25,
   "metadata": {},
   "outputs": [
    {
     "data": {
      "text/plain": [
       "pandas.core.frame.DataFrame"
      ]
     },
     "execution_count": 25,
     "metadata": {},
     "output_type": "execute_result"
    }
   ],
   "source": [
    "type(df3)"
   ]
  },
  {
   "cell_type": "code",
   "execution_count": 26,
   "metadata": {},
   "outputs": [
    {
     "data": {
      "text/plain": [
       "<bound method NDFrame.describe of             0         1         2         3         4\n",
       "0    0.721386  0.407092  0.677209  0.788946  0.434118\n",
       "1    0.138462  0.076653  0.711549  0.381831  0.486913\n",
       "2    0.941958  0.566208  0.092995  0.778204  0.508077\n",
       "3    0.333548  0.282038  0.043280  0.732699  0.298873\n",
       "4    0.286634  0.729357  0.368197  0.162860  0.570876\n",
       "..        ...       ...       ...       ...       ...\n",
       "329  0.112327  0.624903  0.776639  0.692923  0.644337\n",
       "330  0.959048  0.920300  0.027722  0.301824  0.281665\n",
       "331  0.483734  0.550500  0.545368  0.475461  0.705706\n",
       "332  0.656916  0.890126  0.084988  0.517374  0.948894\n",
       "333  0.750539  0.796166  0.602359  0.520711  0.086074\n",
       "\n",
       "[334 rows x 5 columns]>"
      ]
     },
     "execution_count": 26,
     "metadata": {},
     "output_type": "execute_result"
    }
   ],
   "source": [
    "df3.describe"
   ]
  },
  {
   "cell_type": "code",
   "execution_count": 27,
   "metadata": {},
   "outputs": [
    {
     "data": {
      "text/plain": [
       "0    float64\n",
       "1    float64\n",
       "2    float64\n",
       "3    float64\n",
       "4    float64\n",
       "dtype: object"
      ]
     },
     "execution_count": 27,
     "metadata": {},
     "output_type": "execute_result"
    }
   ],
   "source": [
    "df3.dtypes"
   ]
  },
  {
   "cell_type": "code",
   "execution_count": 28,
   "metadata": {},
   "outputs": [
    {
     "data": {
      "text/plain": [
       "Index([  0,   1,   2,   3,   4,   5,   6,   7,   8,   9,\n",
       "       ...\n",
       "       324, 325, 326, 327, 328, 329, 330, 331, 332, 333],\n",
       "      dtype='int32', length=334)"
      ]
     },
     "execution_count": 28,
     "metadata": {},
     "output_type": "execute_result"
    }
   ],
   "source": [
    "df3.index"
   ]
  },
  {
   "cell_type": "code",
   "execution_count": 29,
   "metadata": {},
   "outputs": [
    {
     "data": {
      "text/plain": [
       "RangeIndex(start=0, stop=5, step=1)"
      ]
     },
     "execution_count": 29,
     "metadata": {},
     "output_type": "execute_result"
    }
   ],
   "source": [
    "df3.columns"
   ]
  },
  {
   "cell_type": "code",
   "execution_count": 30,
   "metadata": {},
   "outputs": [
    {
     "data": {
      "text/plain": [
       "<bound method DataFrame.to_numpy of             0         1         2         3         4\n",
       "0    0.721386  0.407092  0.677209  0.788946  0.434118\n",
       "1    0.138462  0.076653  0.711549  0.381831  0.486913\n",
       "2    0.941958  0.566208  0.092995  0.778204  0.508077\n",
       "3    0.333548  0.282038  0.043280  0.732699  0.298873\n",
       "4    0.286634  0.729357  0.368197  0.162860  0.570876\n",
       "..        ...       ...       ...       ...       ...\n",
       "329  0.112327  0.624903  0.776639  0.692923  0.644337\n",
       "330  0.959048  0.920300  0.027722  0.301824  0.281665\n",
       "331  0.483734  0.550500  0.545368  0.475461  0.705706\n",
       "332  0.656916  0.890126  0.084988  0.517374  0.948894\n",
       "333  0.750539  0.796166  0.602359  0.520711  0.086074\n",
       "\n",
       "[334 rows x 5 columns]>"
      ]
     },
     "execution_count": 30,
     "metadata": {},
     "output_type": "execute_result"
    }
   ],
   "source": [
    "df3.to_numpy"
   ]
  },
  {
   "cell_type": "code",
   "execution_count": 31,
   "metadata": {},
   "outputs": [
    {
     "data": {
      "text/html": [
       "<div>\n",
       "<style scoped>\n",
       "    .dataframe tbody tr th:only-of-type {\n",
       "        vertical-align: middle;\n",
       "    }\n",
       "\n",
       "    .dataframe tbody tr th {\n",
       "        vertical-align: top;\n",
       "    }\n",
       "\n",
       "    .dataframe thead th {\n",
       "        text-align: right;\n",
       "    }\n",
       "</style>\n",
       "<table border=\"1\" class=\"dataframe\">\n",
       "  <thead>\n",
       "    <tr style=\"text-align: right;\">\n",
       "      <th></th>\n",
       "      <th>0</th>\n",
       "      <th>1</th>\n",
       "      <th>2</th>\n",
       "      <th>3</th>\n",
       "      <th>4</th>\n",
       "      <th>5</th>\n",
       "      <th>6</th>\n",
       "      <th>7</th>\n",
       "      <th>8</th>\n",
       "      <th>9</th>\n",
       "      <th>...</th>\n",
       "      <th>324</th>\n",
       "      <th>325</th>\n",
       "      <th>326</th>\n",
       "      <th>327</th>\n",
       "      <th>328</th>\n",
       "      <th>329</th>\n",
       "      <th>330</th>\n",
       "      <th>331</th>\n",
       "      <th>332</th>\n",
       "      <th>333</th>\n",
       "    </tr>\n",
       "  </thead>\n",
       "  <tbody>\n",
       "    <tr>\n",
       "      <th>0</th>\n",
       "      <td>0.721386</td>\n",
       "      <td>0.138462</td>\n",
       "      <td>0.941958</td>\n",
       "      <td>0.333548</td>\n",
       "      <td>0.286634</td>\n",
       "      <td>0.306051</td>\n",
       "      <td>0.615842</td>\n",
       "      <td>0.832138</td>\n",
       "      <td>0.440686</td>\n",
       "      <td>0.363597</td>\n",
       "      <td>...</td>\n",
       "      <td>0.441220</td>\n",
       "      <td>0.546405</td>\n",
       "      <td>0.649541</td>\n",
       "      <td>0.007289</td>\n",
       "      <td>0.892775</td>\n",
       "      <td>0.112327</td>\n",
       "      <td>0.959048</td>\n",
       "      <td>0.483734</td>\n",
       "      <td>0.656916</td>\n",
       "      <td>0.750539</td>\n",
       "    </tr>\n",
       "    <tr>\n",
       "      <th>1</th>\n",
       "      <td>0.407092</td>\n",
       "      <td>0.076653</td>\n",
       "      <td>0.566208</td>\n",
       "      <td>0.282038</td>\n",
       "      <td>0.729357</td>\n",
       "      <td>0.858420</td>\n",
       "      <td>0.518984</td>\n",
       "      <td>0.284155</td>\n",
       "      <td>0.144522</td>\n",
       "      <td>0.477931</td>\n",
       "      <td>...</td>\n",
       "      <td>0.724542</td>\n",
       "      <td>0.887606</td>\n",
       "      <td>0.884924</td>\n",
       "      <td>0.833763</td>\n",
       "      <td>0.174634</td>\n",
       "      <td>0.624903</td>\n",
       "      <td>0.920300</td>\n",
       "      <td>0.550500</td>\n",
       "      <td>0.890126</td>\n",
       "      <td>0.796166</td>\n",
       "    </tr>\n",
       "    <tr>\n",
       "      <th>2</th>\n",
       "      <td>0.677209</td>\n",
       "      <td>0.711549</td>\n",
       "      <td>0.092995</td>\n",
       "      <td>0.043280</td>\n",
       "      <td>0.368197</td>\n",
       "      <td>0.008512</td>\n",
       "      <td>0.644410</td>\n",
       "      <td>0.860124</td>\n",
       "      <td>0.883361</td>\n",
       "      <td>0.118070</td>\n",
       "      <td>...</td>\n",
       "      <td>0.261583</td>\n",
       "      <td>0.519764</td>\n",
       "      <td>0.386055</td>\n",
       "      <td>0.008678</td>\n",
       "      <td>0.561840</td>\n",
       "      <td>0.776639</td>\n",
       "      <td>0.027722</td>\n",
       "      <td>0.545368</td>\n",
       "      <td>0.084988</td>\n",
       "      <td>0.602359</td>\n",
       "    </tr>\n",
       "    <tr>\n",
       "      <th>3</th>\n",
       "      <td>0.788946</td>\n",
       "      <td>0.381831</td>\n",
       "      <td>0.778204</td>\n",
       "      <td>0.732699</td>\n",
       "      <td>0.162860</td>\n",
       "      <td>0.787170</td>\n",
       "      <td>0.164802</td>\n",
       "      <td>0.717670</td>\n",
       "      <td>0.588619</td>\n",
       "      <td>0.995835</td>\n",
       "      <td>...</td>\n",
       "      <td>0.009375</td>\n",
       "      <td>0.853757</td>\n",
       "      <td>0.906270</td>\n",
       "      <td>0.547650</td>\n",
       "      <td>0.272319</td>\n",
       "      <td>0.692923</td>\n",
       "      <td>0.301824</td>\n",
       "      <td>0.475461</td>\n",
       "      <td>0.517374</td>\n",
       "      <td>0.520711</td>\n",
       "    </tr>\n",
       "    <tr>\n",
       "      <th>4</th>\n",
       "      <td>0.434118</td>\n",
       "      <td>0.486913</td>\n",
       "      <td>0.508077</td>\n",
       "      <td>0.298873</td>\n",
       "      <td>0.570876</td>\n",
       "      <td>0.002022</td>\n",
       "      <td>0.760038</td>\n",
       "      <td>0.890939</td>\n",
       "      <td>0.860853</td>\n",
       "      <td>0.646971</td>\n",
       "      <td>...</td>\n",
       "      <td>0.413217</td>\n",
       "      <td>0.666141</td>\n",
       "      <td>0.138312</td>\n",
       "      <td>0.544214</td>\n",
       "      <td>0.184518</td>\n",
       "      <td>0.644337</td>\n",
       "      <td>0.281665</td>\n",
       "      <td>0.705706</td>\n",
       "      <td>0.948894</td>\n",
       "      <td>0.086074</td>\n",
       "    </tr>\n",
       "  </tbody>\n",
       "</table>\n",
       "<p>5 rows × 334 columns</p>\n",
       "</div>"
      ],
      "text/plain": [
       "        0         1         2         3         4         5         6    \\\n",
       "0  0.721386  0.138462  0.941958  0.333548  0.286634  0.306051  0.615842   \n",
       "1  0.407092  0.076653  0.566208  0.282038  0.729357  0.858420  0.518984   \n",
       "2  0.677209  0.711549  0.092995  0.043280  0.368197  0.008512  0.644410   \n",
       "3  0.788946  0.381831  0.778204  0.732699  0.162860  0.787170  0.164802   \n",
       "4  0.434118  0.486913  0.508077  0.298873  0.570876  0.002022  0.760038   \n",
       "\n",
       "        7         8         9    ...       324       325       326       327  \\\n",
       "0  0.832138  0.440686  0.363597  ...  0.441220  0.546405  0.649541  0.007289   \n",
       "1  0.284155  0.144522  0.477931  ...  0.724542  0.887606  0.884924  0.833763   \n",
       "2  0.860124  0.883361  0.118070  ...  0.261583  0.519764  0.386055  0.008678   \n",
       "3  0.717670  0.588619  0.995835  ...  0.009375  0.853757  0.906270  0.547650   \n",
       "4  0.890939  0.860853  0.646971  ...  0.413217  0.666141  0.138312  0.544214   \n",
       "\n",
       "        328       329       330       331       332       333  \n",
       "0  0.892775  0.112327  0.959048  0.483734  0.656916  0.750539  \n",
       "1  0.174634  0.624903  0.920300  0.550500  0.890126  0.796166  \n",
       "2  0.561840  0.776639  0.027722  0.545368  0.084988  0.602359  \n",
       "3  0.272319  0.692923  0.301824  0.475461  0.517374  0.520711  \n",
       "4  0.184518  0.644337  0.281665  0.705706  0.948894  0.086074  \n",
       "\n",
       "[5 rows x 334 columns]"
      ]
     },
     "execution_count": 31,
     "metadata": {},
     "output_type": "execute_result"
    }
   ],
   "source": [
    "df3.T"
   ]
  },
  {
   "cell_type": "code",
   "execution_count": 32,
   "metadata": {},
   "outputs": [
    {
     "data": {
      "text/plain": [
       "<bound method NDFrame.head of     name  marks     city\n",
       "0  harry     92   rampur\n",
       "1  rohan     34  kolkata\n",
       "2   anuj     24     mhow>"
      ]
     },
     "execution_count": 32,
     "metadata": {},
     "output_type": "execute_result"
    }
   ],
   "source": [
    "df.head"
   ]
  },
  {
   "cell_type": "code",
   "execution_count": 33,
   "metadata": {},
   "outputs": [
    {
     "data": {
      "text/html": [
       "<div>\n",
       "<style scoped>\n",
       "    .dataframe tbody tr th:only-of-type {\n",
       "        vertical-align: middle;\n",
       "    }\n",
       "\n",
       "    .dataframe tbody tr th {\n",
       "        vertical-align: top;\n",
       "    }\n",
       "\n",
       "    .dataframe thead th {\n",
       "        text-align: right;\n",
       "    }\n",
       "</style>\n",
       "<table border=\"1\" class=\"dataframe\">\n",
       "  <thead>\n",
       "    <tr style=\"text-align: right;\">\n",
       "      <th></th>\n",
       "      <th>4</th>\n",
       "      <th>3</th>\n",
       "      <th>2</th>\n",
       "      <th>1</th>\n",
       "      <th>0</th>\n",
       "    </tr>\n",
       "  </thead>\n",
       "  <tbody>\n",
       "    <tr>\n",
       "      <th>0</th>\n",
       "      <td>0.434118</td>\n",
       "      <td>0.788946</td>\n",
       "      <td>0.677209</td>\n",
       "      <td>0.407092</td>\n",
       "      <td>0.721386</td>\n",
       "    </tr>\n",
       "    <tr>\n",
       "      <th>1</th>\n",
       "      <td>0.486913</td>\n",
       "      <td>0.381831</td>\n",
       "      <td>0.711549</td>\n",
       "      <td>0.076653</td>\n",
       "      <td>0.138462</td>\n",
       "    </tr>\n",
       "    <tr>\n",
       "      <th>2</th>\n",
       "      <td>0.508077</td>\n",
       "      <td>0.778204</td>\n",
       "      <td>0.092995</td>\n",
       "      <td>0.566208</td>\n",
       "      <td>0.941958</td>\n",
       "    </tr>\n",
       "    <tr>\n",
       "      <th>3</th>\n",
       "      <td>0.298873</td>\n",
       "      <td>0.732699</td>\n",
       "      <td>0.043280</td>\n",
       "      <td>0.282038</td>\n",
       "      <td>0.333548</td>\n",
       "    </tr>\n",
       "    <tr>\n",
       "      <th>4</th>\n",
       "      <td>0.570876</td>\n",
       "      <td>0.162860</td>\n",
       "      <td>0.368197</td>\n",
       "      <td>0.729357</td>\n",
       "      <td>0.286634</td>\n",
       "    </tr>\n",
       "    <tr>\n",
       "      <th>...</th>\n",
       "      <td>...</td>\n",
       "      <td>...</td>\n",
       "      <td>...</td>\n",
       "      <td>...</td>\n",
       "      <td>...</td>\n",
       "    </tr>\n",
       "    <tr>\n",
       "      <th>329</th>\n",
       "      <td>0.644337</td>\n",
       "      <td>0.692923</td>\n",
       "      <td>0.776639</td>\n",
       "      <td>0.624903</td>\n",
       "      <td>0.112327</td>\n",
       "    </tr>\n",
       "    <tr>\n",
       "      <th>330</th>\n",
       "      <td>0.281665</td>\n",
       "      <td>0.301824</td>\n",
       "      <td>0.027722</td>\n",
       "      <td>0.920300</td>\n",
       "      <td>0.959048</td>\n",
       "    </tr>\n",
       "    <tr>\n",
       "      <th>331</th>\n",
       "      <td>0.705706</td>\n",
       "      <td>0.475461</td>\n",
       "      <td>0.545368</td>\n",
       "      <td>0.550500</td>\n",
       "      <td>0.483734</td>\n",
       "    </tr>\n",
       "    <tr>\n",
       "      <th>332</th>\n",
       "      <td>0.948894</td>\n",
       "      <td>0.517374</td>\n",
       "      <td>0.084988</td>\n",
       "      <td>0.890126</td>\n",
       "      <td>0.656916</td>\n",
       "    </tr>\n",
       "    <tr>\n",
       "      <th>333</th>\n",
       "      <td>0.086074</td>\n",
       "      <td>0.520711</td>\n",
       "      <td>0.602359</td>\n",
       "      <td>0.796166</td>\n",
       "      <td>0.750539</td>\n",
       "    </tr>\n",
       "  </tbody>\n",
       "</table>\n",
       "<p>334 rows × 5 columns</p>\n",
       "</div>"
      ],
      "text/plain": [
       "            4         3         2         1         0\n",
       "0    0.434118  0.788946  0.677209  0.407092  0.721386\n",
       "1    0.486913  0.381831  0.711549  0.076653  0.138462\n",
       "2    0.508077  0.778204  0.092995  0.566208  0.941958\n",
       "3    0.298873  0.732699  0.043280  0.282038  0.333548\n",
       "4    0.570876  0.162860  0.368197  0.729357  0.286634\n",
       "..        ...       ...       ...       ...       ...\n",
       "329  0.644337  0.692923  0.776639  0.624903  0.112327\n",
       "330  0.281665  0.301824  0.027722  0.920300  0.959048\n",
       "331  0.705706  0.475461  0.545368  0.550500  0.483734\n",
       "332  0.948894  0.517374  0.084988  0.890126  0.656916\n",
       "333  0.086074  0.520711  0.602359  0.796166  0.750539\n",
       "\n",
       "[334 rows x 5 columns]"
      ]
     },
     "execution_count": 33,
     "metadata": {},
     "output_type": "execute_result"
    }
   ],
   "source": [
    "df3.sort_index(axis=1, ascending=False)"
   ]
  },
  {
   "cell_type": "code",
   "execution_count": 34,
   "metadata": {},
   "outputs": [
    {
     "data": {
      "text/plain": [
       "pandas.core.series.Series"
      ]
     },
     "execution_count": 34,
     "metadata": {},
     "output_type": "execute_result"
    }
   ],
   "source": [
    "type(df3[0])"
   ]
  },
  {
   "cell_type": "code",
   "execution_count": 35,
   "metadata": {},
   "outputs": [],
   "source": [
    "df4 = df3.copy()"
   ]
  },
  {
   "cell_type": "code",
   "execution_count": 36,
   "metadata": {},
   "outputs": [],
   "source": [
    "df3.loc[0,0] = 53343"
   ]
  },
  {
   "cell_type": "code",
   "execution_count": 37,
   "metadata": {},
   "outputs": [
    {
     "data": {
      "text/plain": [
       "<bound method NDFrame.head of                 0         1         2         3         4\n",
       "0    53343.000000  0.407092  0.677209  0.788946  0.434118\n",
       "1        0.138462  0.076653  0.711549  0.381831  0.486913\n",
       "2        0.941958  0.566208  0.092995  0.778204  0.508077\n",
       "3        0.333548  0.282038  0.043280  0.732699  0.298873\n",
       "4        0.286634  0.729357  0.368197  0.162860  0.570876\n",
       "..            ...       ...       ...       ...       ...\n",
       "329      0.112327  0.624903  0.776639  0.692923  0.644337\n",
       "330      0.959048  0.920300  0.027722  0.301824  0.281665\n",
       "331      0.483734  0.550500  0.545368  0.475461  0.705706\n",
       "332      0.656916  0.890126  0.084988  0.517374  0.948894\n",
       "333      0.750539  0.796166  0.602359  0.520711  0.086074\n",
       "\n",
       "[334 rows x 5 columns]>"
      ]
     },
     "execution_count": 37,
     "metadata": {},
     "output_type": "execute_result"
    }
   ],
   "source": [
    "df3.head"
   ]
  },
  {
   "cell_type": "code",
   "execution_count": 38,
   "metadata": {},
   "outputs": [
    {
     "data": {
      "text/html": [
       "<div>\n",
       "<style scoped>\n",
       "    .dataframe tbody tr th:only-of-type {\n",
       "        vertical-align: middle;\n",
       "    }\n",
       "\n",
       "    .dataframe tbody tr th {\n",
       "        vertical-align: top;\n",
       "    }\n",
       "\n",
       "    .dataframe thead th {\n",
       "        text-align: right;\n",
       "    }\n",
       "</style>\n",
       "<table border=\"1\" class=\"dataframe\">\n",
       "  <thead>\n",
       "    <tr style=\"text-align: right;\">\n",
       "      <th></th>\n",
       "      <th>1</th>\n",
       "      <th>2</th>\n",
       "      <th>3</th>\n",
       "      <th>4</th>\n",
       "    </tr>\n",
       "  </thead>\n",
       "  <tbody>\n",
       "    <tr>\n",
       "      <th>0</th>\n",
       "      <td>0.407092</td>\n",
       "      <td>0.677209</td>\n",
       "      <td>0.788946</td>\n",
       "      <td>0.434118</td>\n",
       "    </tr>\n",
       "    <tr>\n",
       "      <th>1</th>\n",
       "      <td>0.076653</td>\n",
       "      <td>0.711549</td>\n",
       "      <td>0.381831</td>\n",
       "      <td>0.486913</td>\n",
       "    </tr>\n",
       "    <tr>\n",
       "      <th>2</th>\n",
       "      <td>0.566208</td>\n",
       "      <td>0.092995</td>\n",
       "      <td>0.778204</td>\n",
       "      <td>0.508077</td>\n",
       "    </tr>\n",
       "    <tr>\n",
       "      <th>3</th>\n",
       "      <td>0.282038</td>\n",
       "      <td>0.043280</td>\n",
       "      <td>0.732699</td>\n",
       "      <td>0.298873</td>\n",
       "    </tr>\n",
       "    <tr>\n",
       "      <th>4</th>\n",
       "      <td>0.729357</td>\n",
       "      <td>0.368197</td>\n",
       "      <td>0.162860</td>\n",
       "      <td>0.570876</td>\n",
       "    </tr>\n",
       "    <tr>\n",
       "      <th>...</th>\n",
       "      <td>...</td>\n",
       "      <td>...</td>\n",
       "      <td>...</td>\n",
       "      <td>...</td>\n",
       "    </tr>\n",
       "    <tr>\n",
       "      <th>329</th>\n",
       "      <td>0.624903</td>\n",
       "      <td>0.776639</td>\n",
       "      <td>0.692923</td>\n",
       "      <td>0.644337</td>\n",
       "    </tr>\n",
       "    <tr>\n",
       "      <th>330</th>\n",
       "      <td>0.920300</td>\n",
       "      <td>0.027722</td>\n",
       "      <td>0.301824</td>\n",
       "      <td>0.281665</td>\n",
       "    </tr>\n",
       "    <tr>\n",
       "      <th>331</th>\n",
       "      <td>0.550500</td>\n",
       "      <td>0.545368</td>\n",
       "      <td>0.475461</td>\n",
       "      <td>0.705706</td>\n",
       "    </tr>\n",
       "    <tr>\n",
       "      <th>332</th>\n",
       "      <td>0.890126</td>\n",
       "      <td>0.084988</td>\n",
       "      <td>0.517374</td>\n",
       "      <td>0.948894</td>\n",
       "    </tr>\n",
       "    <tr>\n",
       "      <th>333</th>\n",
       "      <td>0.796166</td>\n",
       "      <td>0.602359</td>\n",
       "      <td>0.520711</td>\n",
       "      <td>0.086074</td>\n",
       "    </tr>\n",
       "  </tbody>\n",
       "</table>\n",
       "<p>334 rows × 4 columns</p>\n",
       "</div>"
      ],
      "text/plain": [
       "            1         2         3         4\n",
       "0    0.407092  0.677209  0.788946  0.434118\n",
       "1    0.076653  0.711549  0.381831  0.486913\n",
       "2    0.566208  0.092995  0.778204  0.508077\n",
       "3    0.282038  0.043280  0.732699  0.298873\n",
       "4    0.729357  0.368197  0.162860  0.570876\n",
       "..        ...       ...       ...       ...\n",
       "329  0.624903  0.776639  0.692923  0.644337\n",
       "330  0.920300  0.027722  0.301824  0.281665\n",
       "331  0.550500  0.545368  0.475461  0.705706\n",
       "332  0.890126  0.084988  0.517374  0.948894\n",
       "333  0.796166  0.602359  0.520711  0.086074\n",
       "\n",
       "[334 rows x 4 columns]"
      ]
     },
     "execution_count": 38,
     "metadata": {},
     "output_type": "execute_result"
    }
   ],
   "source": [
    "df3.drop(0,axis=1)"
   ]
  },
  {
   "cell_type": "code",
   "execution_count": 39,
   "metadata": {},
   "outputs": [
    {
     "data": {
      "text/html": [
       "<div>\n",
       "<style scoped>\n",
       "    .dataframe tbody tr th:only-of-type {\n",
       "        vertical-align: middle;\n",
       "    }\n",
       "\n",
       "    .dataframe tbody tr th {\n",
       "        vertical-align: top;\n",
       "    }\n",
       "\n",
       "    .dataframe thead th {\n",
       "        text-align: right;\n",
       "    }\n",
       "</style>\n",
       "<table border=\"1\" class=\"dataframe\">\n",
       "  <thead>\n",
       "    <tr style=\"text-align: right;\">\n",
       "      <th></th>\n",
       "      <th>3</th>\n",
       "      <th>4</th>\n",
       "    </tr>\n",
       "  </thead>\n",
       "  <tbody>\n",
       "    <tr>\n",
       "      <th>1</th>\n",
       "      <td>0.381831</td>\n",
       "      <td>0.486913</td>\n",
       "    </tr>\n",
       "    <tr>\n",
       "      <th>2</th>\n",
       "      <td>0.778204</td>\n",
       "      <td>0.508077</td>\n",
       "    </tr>\n",
       "  </tbody>\n",
       "</table>\n",
       "</div>"
      ],
      "text/plain": [
       "          3         4\n",
       "1  0.381831  0.486913\n",
       "2  0.778204  0.508077"
      ]
     },
     "execution_count": 39,
     "metadata": {},
     "output_type": "execute_result"
    }
   ],
   "source": [
    "df3.loc[[1,2],[3,4]]"
   ]
  },
  {
   "cell_type": "code",
   "execution_count": 40,
   "metadata": {},
   "outputs": [
    {
     "data": {
      "text/html": [
       "<div>\n",
       "<style scoped>\n",
       "    .dataframe tbody tr th:only-of-type {\n",
       "        vertical-align: middle;\n",
       "    }\n",
       "\n",
       "    .dataframe tbody tr th {\n",
       "        vertical-align: top;\n",
       "    }\n",
       "\n",
       "    .dataframe thead th {\n",
       "        text-align: right;\n",
       "    }\n",
       "</style>\n",
       "<table border=\"1\" class=\"dataframe\">\n",
       "  <thead>\n",
       "    <tr style=\"text-align: right;\">\n",
       "      <th></th>\n",
       "      <th>0</th>\n",
       "      <th>1</th>\n",
       "      <th>2</th>\n",
       "      <th>3</th>\n",
       "      <th>4</th>\n",
       "    </tr>\n",
       "  </thead>\n",
       "  <tbody>\n",
       "    <tr>\n",
       "      <th>1</th>\n",
       "      <td>0.138462</td>\n",
       "      <td>0.076653</td>\n",
       "      <td>0.711549</td>\n",
       "      <td>0.381831</td>\n",
       "      <td>0.486913</td>\n",
       "    </tr>\n",
       "    <tr>\n",
       "      <th>2</th>\n",
       "      <td>0.941958</td>\n",
       "      <td>0.566208</td>\n",
       "      <td>0.092995</td>\n",
       "      <td>0.778204</td>\n",
       "      <td>0.508077</td>\n",
       "    </tr>\n",
       "  </tbody>\n",
       "</table>\n",
       "</div>"
      ],
      "text/plain": [
       "          0         1         2         3         4\n",
       "1  0.138462  0.076653  0.711549  0.381831  0.486913\n",
       "2  0.941958  0.566208  0.092995  0.778204  0.508077"
      ]
     },
     "execution_count": 40,
     "metadata": {},
     "output_type": "execute_result"
    }
   ],
   "source": [
    "df3.loc[[1,2],:]"
   ]
  },
  {
   "cell_type": "code",
   "execution_count": 41,
   "metadata": {},
   "outputs": [],
   "source": [
    "df5 = df3.loc[(df3[0]<0.3) & (df3[2]>0.1)]"
   ]
  },
  {
   "cell_type": "code",
   "execution_count": 42,
   "metadata": {},
   "outputs": [
    {
     "data": {
      "text/plain": [
       "0.4869134709088664"
      ]
     },
     "execution_count": 42,
     "metadata": {},
     "output_type": "execute_result"
    }
   ],
   "source": [
    "df5.iloc[0,4]"
   ]
  },
  {
   "cell_type": "code",
   "execution_count": 43,
   "metadata": {},
   "outputs": [
    {
     "data": {
      "text/html": [
       "<div>\n",
       "<style scoped>\n",
       "    .dataframe tbody tr th:only-of-type {\n",
       "        vertical-align: middle;\n",
       "    }\n",
       "\n",
       "    .dataframe tbody tr th {\n",
       "        vertical-align: top;\n",
       "    }\n",
       "\n",
       "    .dataframe thead th {\n",
       "        text-align: right;\n",
       "    }\n",
       "</style>\n",
       "<table border=\"1\" class=\"dataframe\">\n",
       "  <thead>\n",
       "    <tr style=\"text-align: right;\">\n",
       "      <th></th>\n",
       "      <th>0</th>\n",
       "      <th>1</th>\n",
       "      <th>2</th>\n",
       "      <th>3</th>\n",
       "      <th>4</th>\n",
       "    </tr>\n",
       "  </thead>\n",
       "  <tbody>\n",
       "    <tr>\n",
       "      <th>1</th>\n",
       "      <td>0.138462</td>\n",
       "      <td>0.076653</td>\n",
       "      <td>0.711549</td>\n",
       "      <td>0.381831</td>\n",
       "      <td>0.486913</td>\n",
       "    </tr>\n",
       "    <tr>\n",
       "      <th>4</th>\n",
       "      <td>0.286634</td>\n",
       "      <td>0.729357</td>\n",
       "      <td>0.368197</td>\n",
       "      <td>0.162860</td>\n",
       "      <td>0.570876</td>\n",
       "    </tr>\n",
       "    <tr>\n",
       "      <th>13</th>\n",
       "      <td>0.093858</td>\n",
       "      <td>0.068851</td>\n",
       "      <td>0.129293</td>\n",
       "      <td>0.018867</td>\n",
       "      <td>0.500173</td>\n",
       "    </tr>\n",
       "    <tr>\n",
       "      <th>18</th>\n",
       "      <td>0.128228</td>\n",
       "      <td>0.411034</td>\n",
       "      <td>0.503225</td>\n",
       "      <td>0.683565</td>\n",
       "      <td>0.249197</td>\n",
       "    </tr>\n",
       "    <tr>\n",
       "      <th>21</th>\n",
       "      <td>0.232671</td>\n",
       "      <td>0.847339</td>\n",
       "      <td>0.269441</td>\n",
       "      <td>0.886115</td>\n",
       "      <td>0.571315</td>\n",
       "    </tr>\n",
       "    <tr>\n",
       "      <th>...</th>\n",
       "      <td>...</td>\n",
       "      <td>...</td>\n",
       "      <td>...</td>\n",
       "      <td>...</td>\n",
       "      <td>...</td>\n",
       "    </tr>\n",
       "    <tr>\n",
       "      <th>313</th>\n",
       "      <td>0.081537</td>\n",
       "      <td>0.974227</td>\n",
       "      <td>0.803922</td>\n",
       "      <td>0.539231</td>\n",
       "      <td>0.168042</td>\n",
       "    </tr>\n",
       "    <tr>\n",
       "      <th>316</th>\n",
       "      <td>0.062120</td>\n",
       "      <td>0.457026</td>\n",
       "      <td>0.951510</td>\n",
       "      <td>0.098603</td>\n",
       "      <td>0.869105</td>\n",
       "    </tr>\n",
       "    <tr>\n",
       "      <th>318</th>\n",
       "      <td>0.182865</td>\n",
       "      <td>0.007911</td>\n",
       "      <td>0.555827</td>\n",
       "      <td>0.269045</td>\n",
       "      <td>0.280257</td>\n",
       "    </tr>\n",
       "    <tr>\n",
       "      <th>319</th>\n",
       "      <td>0.080321</td>\n",
       "      <td>0.174742</td>\n",
       "      <td>0.654607</td>\n",
       "      <td>0.743339</td>\n",
       "      <td>0.924659</td>\n",
       "    </tr>\n",
       "    <tr>\n",
       "      <th>329</th>\n",
       "      <td>0.112327</td>\n",
       "      <td>0.624903</td>\n",
       "      <td>0.776639</td>\n",
       "      <td>0.692923</td>\n",
       "      <td>0.644337</td>\n",
       "    </tr>\n",
       "  </tbody>\n",
       "</table>\n",
       "<p>83 rows × 5 columns</p>\n",
       "</div>"
      ],
      "text/plain": [
       "            0         1         2         3         4\n",
       "1    0.138462  0.076653  0.711549  0.381831  0.486913\n",
       "4    0.286634  0.729357  0.368197  0.162860  0.570876\n",
       "13   0.093858  0.068851  0.129293  0.018867  0.500173\n",
       "18   0.128228  0.411034  0.503225  0.683565  0.249197\n",
       "21   0.232671  0.847339  0.269441  0.886115  0.571315\n",
       "..        ...       ...       ...       ...       ...\n",
       "313  0.081537  0.974227  0.803922  0.539231  0.168042\n",
       "316  0.062120  0.457026  0.951510  0.098603  0.869105\n",
       "318  0.182865  0.007911  0.555827  0.269045  0.280257\n",
       "319  0.080321  0.174742  0.654607  0.743339  0.924659\n",
       "329  0.112327  0.624903  0.776639  0.692923  0.644337\n",
       "\n",
       "[83 rows x 5 columns]"
      ]
     },
     "execution_count": 43,
     "metadata": {},
     "output_type": "execute_result"
    }
   ],
   "source": [
    "df5"
   ]
  },
  {
   "cell_type": "code",
   "execution_count": 44,
   "metadata": {},
   "outputs": [],
   "source": [
    "df3.drop([1,3],axis=1,inplace=True)"
   ]
  },
  {
   "cell_type": "code",
   "execution_count": 45,
   "metadata": {},
   "outputs": [
    {
     "data": {
      "text/html": [
       "<div>\n",
       "<style scoped>\n",
       "    .dataframe tbody tr th:only-of-type {\n",
       "        vertical-align: middle;\n",
       "    }\n",
       "\n",
       "    .dataframe tbody tr th {\n",
       "        vertical-align: top;\n",
       "    }\n",
       "\n",
       "    .dataframe thead th {\n",
       "        text-align: right;\n",
       "    }\n",
       "</style>\n",
       "<table border=\"1\" class=\"dataframe\">\n",
       "  <thead>\n",
       "    <tr style=\"text-align: right;\">\n",
       "      <th></th>\n",
       "      <th>0</th>\n",
       "      <th>2</th>\n",
       "      <th>4</th>\n",
       "    </tr>\n",
       "  </thead>\n",
       "  <tbody>\n",
       "    <tr>\n",
       "      <th>0</th>\n",
       "      <td>53343.000000</td>\n",
       "      <td>0.677209</td>\n",
       "      <td>0.434118</td>\n",
       "    </tr>\n",
       "    <tr>\n",
       "      <th>1</th>\n",
       "      <td>0.138462</td>\n",
       "      <td>0.711549</td>\n",
       "      <td>0.486913</td>\n",
       "    </tr>\n",
       "    <tr>\n",
       "      <th>2</th>\n",
       "      <td>0.941958</td>\n",
       "      <td>0.092995</td>\n",
       "      <td>0.508077</td>\n",
       "    </tr>\n",
       "    <tr>\n",
       "      <th>3</th>\n",
       "      <td>0.333548</td>\n",
       "      <td>0.043280</td>\n",
       "      <td>0.298873</td>\n",
       "    </tr>\n",
       "    <tr>\n",
       "      <th>4</th>\n",
       "      <td>0.286634</td>\n",
       "      <td>0.368197</td>\n",
       "      <td>0.570876</td>\n",
       "    </tr>\n",
       "    <tr>\n",
       "      <th>...</th>\n",
       "      <td>...</td>\n",
       "      <td>...</td>\n",
       "      <td>...</td>\n",
       "    </tr>\n",
       "    <tr>\n",
       "      <th>329</th>\n",
       "      <td>0.112327</td>\n",
       "      <td>0.776639</td>\n",
       "      <td>0.644337</td>\n",
       "    </tr>\n",
       "    <tr>\n",
       "      <th>330</th>\n",
       "      <td>0.959048</td>\n",
       "      <td>0.027722</td>\n",
       "      <td>0.281665</td>\n",
       "    </tr>\n",
       "    <tr>\n",
       "      <th>331</th>\n",
       "      <td>0.483734</td>\n",
       "      <td>0.545368</td>\n",
       "      <td>0.705706</td>\n",
       "    </tr>\n",
       "    <tr>\n",
       "      <th>332</th>\n",
       "      <td>0.656916</td>\n",
       "      <td>0.084988</td>\n",
       "      <td>0.948894</td>\n",
       "    </tr>\n",
       "    <tr>\n",
       "      <th>333</th>\n",
       "      <td>0.750539</td>\n",
       "      <td>0.602359</td>\n",
       "      <td>0.086074</td>\n",
       "    </tr>\n",
       "  </tbody>\n",
       "</table>\n",
       "<p>334 rows × 3 columns</p>\n",
       "</div>"
      ],
      "text/plain": [
       "                0         2         4\n",
       "0    53343.000000  0.677209  0.434118\n",
       "1        0.138462  0.711549  0.486913\n",
       "2        0.941958  0.092995  0.508077\n",
       "3        0.333548  0.043280  0.298873\n",
       "4        0.286634  0.368197  0.570876\n",
       "..            ...       ...       ...\n",
       "329      0.112327  0.776639  0.644337\n",
       "330      0.959048  0.027722  0.281665\n",
       "331      0.483734  0.545368  0.705706\n",
       "332      0.656916  0.084988  0.948894\n",
       "333      0.750539  0.602359  0.086074\n",
       "\n",
       "[334 rows x 3 columns]"
      ]
     },
     "execution_count": 45,
     "metadata": {},
     "output_type": "execute_result"
    }
   ],
   "source": [
    "df3"
   ]
  },
  {
   "cell_type": "code",
   "execution_count": 46,
   "metadata": {},
   "outputs": [],
   "source": [
    "df3.reset_index(drop=True,inplace = True)"
   ]
  },
  {
   "cell_type": "code",
   "execution_count": 47,
   "metadata": {},
   "outputs": [
    {
     "data": {
      "text/html": [
       "<div>\n",
       "<style scoped>\n",
       "    .dataframe tbody tr th:only-of-type {\n",
       "        vertical-align: middle;\n",
       "    }\n",
       "\n",
       "    .dataframe tbody tr th {\n",
       "        vertical-align: top;\n",
       "    }\n",
       "\n",
       "    .dataframe thead th {\n",
       "        text-align: right;\n",
       "    }\n",
       "</style>\n",
       "<table border=\"1\" class=\"dataframe\">\n",
       "  <thead>\n",
       "    <tr style=\"text-align: right;\">\n",
       "      <th></th>\n",
       "      <th>0</th>\n",
       "      <th>2</th>\n",
       "      <th>4</th>\n",
       "    </tr>\n",
       "  </thead>\n",
       "  <tbody>\n",
       "    <tr>\n",
       "      <th>0</th>\n",
       "      <td>53343.000000</td>\n",
       "      <td>0.677209</td>\n",
       "      <td>0.434118</td>\n",
       "    </tr>\n",
       "    <tr>\n",
       "      <th>1</th>\n",
       "      <td>0.138462</td>\n",
       "      <td>0.711549</td>\n",
       "      <td>0.486913</td>\n",
       "    </tr>\n",
       "    <tr>\n",
       "      <th>2</th>\n",
       "      <td>0.941958</td>\n",
       "      <td>0.092995</td>\n",
       "      <td>0.508077</td>\n",
       "    </tr>\n",
       "    <tr>\n",
       "      <th>3</th>\n",
       "      <td>0.333548</td>\n",
       "      <td>0.043280</td>\n",
       "      <td>0.298873</td>\n",
       "    </tr>\n",
       "    <tr>\n",
       "      <th>4</th>\n",
       "      <td>0.286634</td>\n",
       "      <td>0.368197</td>\n",
       "      <td>0.570876</td>\n",
       "    </tr>\n",
       "    <tr>\n",
       "      <th>5</th>\n",
       "      <td>0.306051</td>\n",
       "      <td>0.008512</td>\n",
       "      <td>0.002022</td>\n",
       "    </tr>\n",
       "    <tr>\n",
       "      <th>6</th>\n",
       "      <td>0.615842</td>\n",
       "      <td>0.644410</td>\n",
       "      <td>0.760038</td>\n",
       "    </tr>\n",
       "    <tr>\n",
       "      <th>7</th>\n",
       "      <td>0.832138</td>\n",
       "      <td>0.860124</td>\n",
       "      <td>0.890939</td>\n",
       "    </tr>\n",
       "    <tr>\n",
       "      <th>8</th>\n",
       "      <td>0.440686</td>\n",
       "      <td>0.883361</td>\n",
       "      <td>0.860853</td>\n",
       "    </tr>\n",
       "    <tr>\n",
       "      <th>9</th>\n",
       "      <td>0.363597</td>\n",
       "      <td>0.118070</td>\n",
       "      <td>0.646971</td>\n",
       "    </tr>\n",
       "  </tbody>\n",
       "</table>\n",
       "</div>"
      ],
      "text/plain": [
       "              0         2         4\n",
       "0  53343.000000  0.677209  0.434118\n",
       "1      0.138462  0.711549  0.486913\n",
       "2      0.941958  0.092995  0.508077\n",
       "3      0.333548  0.043280  0.298873\n",
       "4      0.286634  0.368197  0.570876\n",
       "5      0.306051  0.008512  0.002022\n",
       "6      0.615842  0.644410  0.760038\n",
       "7      0.832138  0.860124  0.890939\n",
       "8      0.440686  0.883361  0.860853\n",
       "9      0.363597  0.118070  0.646971"
      ]
     },
     "execution_count": 47,
     "metadata": {},
     "output_type": "execute_result"
    }
   ],
   "source": [
    "df3.head(10)"
   ]
  },
  {
   "cell_type": "code",
   "execution_count": 48,
   "metadata": {},
   "outputs": [
    {
     "data": {
      "text/plain": [
       "0      False\n",
       "1      False\n",
       "2      False\n",
       "3      False\n",
       "4      False\n",
       "       ...  \n",
       "329    False\n",
       "330    False\n",
       "331    False\n",
       "332    False\n",
       "333    False\n",
       "Name: 0, Length: 334, dtype: bool"
      ]
     },
     "execution_count": 48,
     "metadata": {},
     "output_type": "execute_result"
    }
   ],
   "source": [
    "df3[0].isnull()"
   ]
  },
  {
   "cell_type": "code",
   "execution_count": 49,
   "metadata": {},
   "outputs": [
    {
     "name": "stderr",
     "output_type": "stream",
     "text": [
      "C:\\Users\\yadav\\AppData\\Local\\Temp\\ipykernel_4352\\409708124.py:1: FutureWarning: Setting an item of incompatible dtype is deprecated and will raise in a future error of pandas. Value 'None' has dtype incompatible with float64, please explicitly cast to a compatible dtype first.\n",
      "  df3.loc[:,[0]] = None\n"
     ]
    }
   ],
   "source": [
    "df3.loc[:,[0]] = None"
   ]
  },
  {
   "cell_type": "code",
   "execution_count": 50,
   "metadata": {},
   "outputs": [
    {
     "data": {
      "text/plain": [
       "0      True\n",
       "1      True\n",
       "2      True\n",
       "3      True\n",
       "4      True\n",
       "       ... \n",
       "329    True\n",
       "330    True\n",
       "331    True\n",
       "332    True\n",
       "333    True\n",
       "Name: 0, Length: 334, dtype: bool"
      ]
     },
     "execution_count": 50,
     "metadata": {},
     "output_type": "execute_result"
    }
   ],
   "source": [
    "df3[0].isnull()"
   ]
  },
  {
   "cell_type": "code",
   "execution_count": 51,
   "metadata": {},
   "outputs": [
    {
     "data": {
      "text/html": [
       "<div>\n",
       "<style scoped>\n",
       "    .dataframe tbody tr th:only-of-type {\n",
       "        vertical-align: middle;\n",
       "    }\n",
       "\n",
       "    .dataframe tbody tr th {\n",
       "        vertical-align: top;\n",
       "    }\n",
       "\n",
       "    .dataframe thead th {\n",
       "        text-align: right;\n",
       "    }\n",
       "</style>\n",
       "<table border=\"1\" class=\"dataframe\">\n",
       "  <thead>\n",
       "    <tr style=\"text-align: right;\">\n",
       "      <th></th>\n",
       "      <th>name</th>\n",
       "      <th>marks</th>\n",
       "      <th>city</th>\n",
       "    </tr>\n",
       "  </thead>\n",
       "  <tbody>\n",
       "    <tr>\n",
       "      <th>0</th>\n",
       "      <td>False</td>\n",
       "      <td>False</td>\n",
       "      <td>False</td>\n",
       "    </tr>\n",
       "    <tr>\n",
       "      <th>1</th>\n",
       "      <td>False</td>\n",
       "      <td>False</td>\n",
       "      <td>False</td>\n",
       "    </tr>\n",
       "    <tr>\n",
       "      <th>2</th>\n",
       "      <td>False</td>\n",
       "      <td>False</td>\n",
       "      <td>False</td>\n",
       "    </tr>\n",
       "  </tbody>\n",
       "</table>\n",
       "</div>"
      ],
      "text/plain": [
       "    name  marks   city\n",
       "0  False  False  False\n",
       "1  False  False  False\n",
       "2  False  False  False"
      ]
     },
     "execution_count": 51,
     "metadata": {},
     "output_type": "execute_result"
    }
   ],
   "source": [
    "df.isnull()"
   ]
  },
  {
   "cell_type": "code",
   "execution_count": 52,
   "metadata": {},
   "outputs": [
    {
     "data": {
      "text/html": [
       "<div>\n",
       "<style scoped>\n",
       "    .dataframe tbody tr th:only-of-type {\n",
       "        vertical-align: middle;\n",
       "    }\n",
       "\n",
       "    .dataframe tbody tr th {\n",
       "        vertical-align: top;\n",
       "    }\n",
       "\n",
       "    .dataframe thead th {\n",
       "        text-align: right;\n",
       "    }\n",
       "</style>\n",
       "<table border=\"1\" class=\"dataframe\">\n",
       "  <thead>\n",
       "    <tr style=\"text-align: right;\">\n",
       "      <th></th>\n",
       "      <th>name</th>\n",
       "      <th>marks</th>\n",
       "      <th>city</th>\n",
       "    </tr>\n",
       "  </thead>\n",
       "  <tbody>\n",
       "    <tr>\n",
       "      <th>0</th>\n",
       "      <td>True</td>\n",
       "      <td>True</td>\n",
       "      <td>True</td>\n",
       "    </tr>\n",
       "    <tr>\n",
       "      <th>1</th>\n",
       "      <td>True</td>\n",
       "      <td>True</td>\n",
       "      <td>True</td>\n",
       "    </tr>\n",
       "    <tr>\n",
       "      <th>2</th>\n",
       "      <td>True</td>\n",
       "      <td>True</td>\n",
       "      <td>True</td>\n",
       "    </tr>\n",
       "  </tbody>\n",
       "</table>\n",
       "</div>"
      ],
      "text/plain": [
       "   name  marks  city\n",
       "0  True   True  True\n",
       "1  True   True  True\n",
       "2  True   True  True"
      ]
     },
     "execution_count": 52,
     "metadata": {},
     "output_type": "execute_result"
    }
   ],
   "source": [
    "df.notnull()"
   ]
  },
  {
   "cell_type": "code",
   "execution_count": 54,
   "metadata": {},
   "outputs": [],
   "source": [
    "data = pd.read_excel('Test.xlsx')"
   ]
  },
  {
   "cell_type": "code",
   "execution_count": 55,
   "metadata": {},
   "outputs": [
    {
     "data": {
      "text/html": [
       "<div>\n",
       "<style scoped>\n",
       "    .dataframe tbody tr th:only-of-type {\n",
       "        vertical-align: middle;\n",
       "    }\n",
       "\n",
       "    .dataframe tbody tr th {\n",
       "        vertical-align: top;\n",
       "    }\n",
       "\n",
       "    .dataframe thead th {\n",
       "        text-align: right;\n",
       "    }\n",
       "</style>\n",
       "<table border=\"1\" class=\"dataframe\">\n",
       "  <thead>\n",
       "    <tr style=\"text-align: right;\">\n",
       "      <th></th>\n",
       "      <th>Maturity Date</th>\n",
       "      <th>Maturity Amount</th>\n",
       "      <th>Bank</th>\n",
       "      <th>eTDR (last 4 digits)</th>\n",
       "      <th>Principal</th>\n",
       "      <th>ROI</th>\n",
       "      <th>Yrs</th>\n",
       "      <th>Nominee (Vicky / Anjali)</th>\n",
       "      <th>Scheme</th>\n",
       "      <th>15G FY 24-25</th>\n",
       "      <th>Linked (Y/N)</th>\n",
       "      <th>Matured (Y/N)</th>\n",
       "    </tr>\n",
       "  </thead>\n",
       "  <tbody>\n",
       "    <tr>\n",
       "      <th>0</th>\n",
       "      <td>2023-03-10</td>\n",
       "      <td>52783</td>\n",
       "      <td>Kotak</td>\n",
       "      <td>6451</td>\n",
       "      <td>50000</td>\n",
       "      <td>0.0410</td>\n",
       "      <td>1.0</td>\n",
       "      <td>Anjali</td>\n",
       "      <td>Redeem</td>\n",
       "      <td>Y</td>\n",
       "      <td>Y</td>\n",
       "      <td>Y</td>\n",
       "    </tr>\n",
       "    <tr>\n",
       "      <th>1</th>\n",
       "      <td>2024-05-30</td>\n",
       "      <td>52783</td>\n",
       "      <td>SBI</td>\n",
       "      <td>2117</td>\n",
       "      <td>50000</td>\n",
       "      <td>0.0330</td>\n",
       "      <td>3.3</td>\n",
       "      <td>Anjali</td>\n",
       "      <td>Redeem</td>\n",
       "      <td>Y</td>\n",
       "      <td>N</td>\n",
       "      <td>Y</td>\n",
       "    </tr>\n",
       "    <tr>\n",
       "      <th>2</th>\n",
       "      <td>2023-03-30</td>\n",
       "      <td>30116</td>\n",
       "      <td>Kotak</td>\n",
       "      <td>8868</td>\n",
       "      <td>25000</td>\n",
       "      <td>0.0760</td>\n",
       "      <td>1.2</td>\n",
       "      <td>Anjali</td>\n",
       "      <td>Renew</td>\n",
       "      <td>N</td>\n",
       "      <td>N</td>\n",
       "      <td>Y</td>\n",
       "    </tr>\n",
       "    <tr>\n",
       "      <th>3</th>\n",
       "      <td>2023-04-09</td>\n",
       "      <td>52783</td>\n",
       "      <td>SBI</td>\n",
       "      <td>3637</td>\n",
       "      <td>50000</td>\n",
       "      <td>0.0510</td>\n",
       "      <td>2.3</td>\n",
       "      <td>Vicky</td>\n",
       "      <td>Redeem</td>\n",
       "      <td>N</td>\n",
       "      <td>N</td>\n",
       "      <td>Y</td>\n",
       "    </tr>\n",
       "    <tr>\n",
       "      <th>4</th>\n",
       "      <td>2023-04-21</td>\n",
       "      <td>30116</td>\n",
       "      <td>HSBC</td>\n",
       "      <td>4484</td>\n",
       "      <td>25000</td>\n",
       "      <td>0.0625</td>\n",
       "      <td>1.4</td>\n",
       "      <td>Anjali</td>\n",
       "      <td>Renew</td>\n",
       "      <td>N</td>\n",
       "      <td>Y</td>\n",
       "      <td>Y</td>\n",
       "    </tr>\n",
       "    <tr>\n",
       "      <th>...</th>\n",
       "      <td>...</td>\n",
       "      <td>...</td>\n",
       "      <td>...</td>\n",
       "      <td>...</td>\n",
       "      <td>...</td>\n",
       "      <td>...</td>\n",
       "      <td>...</td>\n",
       "      <td>...</td>\n",
       "      <td>...</td>\n",
       "      <td>...</td>\n",
       "      <td>...</td>\n",
       "      <td>...</td>\n",
       "    </tr>\n",
       "    <tr>\n",
       "      <th>95</th>\n",
       "      <td>2026-04-17</td>\n",
       "      <td>52834</td>\n",
       "      <td>Kotak</td>\n",
       "      <td>9475</td>\n",
       "      <td>50000</td>\n",
       "      <td>0.0625</td>\n",
       "      <td>1.0</td>\n",
       "      <td>Vicky</td>\n",
       "      <td>Redeem</td>\n",
       "      <td>N</td>\n",
       "      <td>N</td>\n",
       "      <td>N</td>\n",
       "    </tr>\n",
       "    <tr>\n",
       "      <th>96</th>\n",
       "      <td>2026-04-29</td>\n",
       "      <td>30116</td>\n",
       "      <td>SBI</td>\n",
       "      <td>1727</td>\n",
       "      <td>25000</td>\n",
       "      <td>0.0625</td>\n",
       "      <td>1.1</td>\n",
       "      <td>Anjali</td>\n",
       "      <td>Redeem</td>\n",
       "      <td>N</td>\n",
       "      <td>Y</td>\n",
       "      <td>N</td>\n",
       "    </tr>\n",
       "    <tr>\n",
       "      <th>97</th>\n",
       "      <td>2026-05-11</td>\n",
       "      <td>52874</td>\n",
       "      <td>HSBC</td>\n",
       "      <td>4016</td>\n",
       "      <td>50000</td>\n",
       "      <td>0.0510</td>\n",
       "      <td>3.2</td>\n",
       "      <td>Vicky</td>\n",
       "      <td>Renew</td>\n",
       "      <td>Y</td>\n",
       "      <td>N</td>\n",
       "      <td>N</td>\n",
       "    </tr>\n",
       "    <tr>\n",
       "      <th>98</th>\n",
       "      <td>2026-05-23</td>\n",
       "      <td>30116</td>\n",
       "      <td>Kotak</td>\n",
       "      <td>3291</td>\n",
       "      <td>25000</td>\n",
       "      <td>0.0470</td>\n",
       "      <td>1.3</td>\n",
       "      <td>Vicky</td>\n",
       "      <td>Redeem</td>\n",
       "      <td>Y</td>\n",
       "      <td>N</td>\n",
       "      <td>N</td>\n",
       "    </tr>\n",
       "    <tr>\n",
       "      <th>99</th>\n",
       "      <td>2026-06-04</td>\n",
       "      <td>26432</td>\n",
       "      <td>SBI</td>\n",
       "      <td>7418</td>\n",
       "      <td>25000</td>\n",
       "      <td>0.0625</td>\n",
       "      <td>1.0</td>\n",
       "      <td>Anjali</td>\n",
       "      <td>Renew</td>\n",
       "      <td>N</td>\n",
       "      <td>N</td>\n",
       "      <td>N</td>\n",
       "    </tr>\n",
       "  </tbody>\n",
       "</table>\n",
       "<p>100 rows × 12 columns</p>\n",
       "</div>"
      ],
      "text/plain": [
       "   Maturity Date  Maturity Amount   Bank  eTDR (last 4 digits)  Principal  \\\n",
       "0     2023-03-10            52783  Kotak                  6451      50000   \n",
       "1     2024-05-30            52783    SBI                  2117      50000   \n",
       "2     2023-03-30            30116  Kotak                  8868      25000   \n",
       "3     2023-04-09            52783    SBI                  3637      50000   \n",
       "4     2023-04-21            30116   HSBC                  4484      25000   \n",
       "..           ...              ...    ...                   ...        ...   \n",
       "95    2026-04-17            52834  Kotak                  9475      50000   \n",
       "96    2026-04-29            30116    SBI                  1727      25000   \n",
       "97    2026-05-11            52874   HSBC                  4016      50000   \n",
       "98    2026-05-23            30116  Kotak                  3291      25000   \n",
       "99    2026-06-04            26432    SBI                  7418      25000   \n",
       "\n",
       "       ROI  Yrs Nominee (Vicky / Anjali)  Scheme 15G FY 24-25 Linked (Y/N)  \\\n",
       "0   0.0410  1.0                   Anjali  Redeem            Y            Y   \n",
       "1   0.0330  3.3                   Anjali  Redeem            Y            N   \n",
       "2   0.0760  1.2                   Anjali   Renew            N            N   \n",
       "3   0.0510  2.3                    Vicky  Redeem            N            N   \n",
       "4   0.0625  1.4                   Anjali   Renew            N            Y   \n",
       "..     ...  ...                      ...     ...          ...          ...   \n",
       "95  0.0625  1.0                    Vicky  Redeem            N            N   \n",
       "96  0.0625  1.1                   Anjali  Redeem            N            Y   \n",
       "97  0.0510  3.2                    Vicky   Renew            Y            N   \n",
       "98  0.0470  1.3                    Vicky  Redeem            Y            N   \n",
       "99  0.0625  1.0                   Anjali   Renew            N            N   \n",
       "\n",
       "   Matured (Y/N)  \n",
       "0              Y  \n",
       "1              Y  \n",
       "2              Y  \n",
       "3              Y  \n",
       "4              Y  \n",
       "..           ...  \n",
       "95             N  \n",
       "96             N  \n",
       "97             N  \n",
       "98             N  \n",
       "99             N  \n",
       "\n",
       "[100 rows x 12 columns]"
      ]
     },
     "execution_count": 55,
     "metadata": {},
     "output_type": "execute_result"
    }
   ],
   "source": [
    "data"
   ]
  },
  {
   "cell_type": "code",
   "execution_count": null,
   "metadata": {},
   "outputs": [],
   "source": []
  }
 ],
 "metadata": {
  "kernelspec": {
   "display_name": "Python 3",
   "language": "python",
   "name": "python3"
  },
  "language_info": {
   "codemirror_mode": {
    "name": "ipython",
    "version": 3
   },
   "file_extension": ".py",
   "mimetype": "text/x-python",
   "name": "python",
   "nbconvert_exporter": "python",
   "pygments_lexer": "ipython3",
   "version": "3.10.11"
  }
 },
 "nbformat": 4,
 "nbformat_minor": 2
}
